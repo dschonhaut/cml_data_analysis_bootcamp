{
 "cells": [
  {
   "cell_type": "markdown",
   "metadata": {},
   "source": [
    "# Data Analysis Bootcamp Assignment 2 - Introductory electrophysiology\n",
    "In this assignment you will learn to load, inspect, and process EEG data, and to use spectral decomposition methods to create time-frequency plots of power in association with behavioral data. \n",
    "\n",
    "This assignment uses the ltpFR2 dataset, a longitudinal scalp EEG study in which we recruited more than 100 subjects to perform a verbal free recall task over 24 testing sessions. You should start by reading the [documention](https://memory.psych.upenn.edu/InternalWiki/LtpFR2) for this study on the internal CML Wiki, and see the study design figure below.\n",
    "\n",
    "<center>\n",
    "<img src=\"https://memory.psych.upenn.edu/InternalWiki/images/1/19/LtpFR2_timeline.jpg\" width=1400>\n",
    "</center>\n",
    "    \n",
    "The instructions below will ask you to perform a number of analyses on ltpFR2 data and to plot your results. You should perform these analyses in the notebook below, in the order given, making sure to label each question and sub-question clearly in your Jupyter notebook. Additionally, some questions will ask you to interpret your results, in which case you should copy the question text to the relevant section of your notebook and write a 1-2 sentence response in [Markdown format](https://jupyter-notebook.readthedocs.io/en/stable/examples/Notebook/Working%20With%20Markdown%20Cells.html). If you get stuck, first try Googling for help, searching the [CML Wiki](https://memory.psych.upenn.edu/InternalWiki/Main_Page), or referencing code from the 10-day [EEG Data Analysis Workshop](https://github.com/esolomon/PythonBootcamp2019). You can also see how other students who are working on this assignment are approaching the problems. If you exhaust these resources, try asking a more senior lab member for help. However, **it is important that you do your best to solve this assignment as independently as possible, and you may be quizzed on your comprehension of any of the questions at the time that you submit the assignment.**  \n",
    "\n",
    "## Instructions\n",
    "1. Load the events data for subject LTP093. \n",
    "    1. Before you load any EEG data, it is a good idea to orient yourself to the behavioral data and check that things are what you expect them to be. How many encoding events are there in total? How many words per list, lists per testing session, and how many testing sessions? What percent of words was subsequently recalled?\n",
    "    2. From the first list in the first session for this subject, select the first 5 encoding events for subsequently recalled words and the first 5 encoding events for subsequently not recalled words. For electrodes 62 and 72, plot 10 different panels showing the individual voltage timeseries for the different encoding events from 500 ms before the onset of the study word until 2100 ms after the onset of the study word (i.e., 500 ms after offset of the study word). Be sure to indicate which electrode each timeseries came from, and in each figure panel you should mark the time of study word onset and offset. For each of these timeseries, calculate the voltage mean and standard deviation and indicate these values in the respective figure panels.\n",
    "    3. What is the sampling rate of the EEG data? This is something you should always check.\n",
    "    4. Can you tell the voltage timeseries apart with respect to whether they belong to a subsequently recalled or not recalled encoding period just by looking at them and/or on the basis of the statistics you computed?<p>\n",
    "\n",
    "2. Scalp and intracranial EEG data can be contaminated by electrical line noise. \n",
    "    1. Reproduce the figure panels above, but applying a Butterworth notch filter (*stop* filter type) around 60 Hz when extracting voltage (`from ptsa.data.filters import ButterworthFilter`).\n",
    "    2. How does line noise removal affect the appearance of the EEG traces? You should implement this preprocessing step in the remaining analyses.<p>\n",
    "    \n",
    "3. Re-reference to a bipolar scheme.\n",
    "    1. The voltage timeseries data that you loaded were saved using an average reference. Re-reference these data to a bipolar scheme by subtracting the recordings at electrode 62 from those at the neighboring electrode 72. Make the same plots as above with the new bipolar electrode (note that there will be only one set of 10 panels this time). \n",
    "    2. How do the voltage timeseries based on this bipolar reference compare to those based on an average reference?<p>\n",
    "     \n",
    "4. Perform a time-frequency power analysis of the subsequent memory effect.\n",
    "    1. Using Morlet wavelets, extract power (`from ptsa.data.filters import MorletWaveletFilter`) at 10 log-spaced frequencies from 3-100 Hz during each encoding interval (0-1600 ms) across all testing sessions for electrode Cz (129), using the default common average referencing scheme. You should use a wave length equal to 5 and include appropriately sized buffers before and after each encoding event.\n",
    "    2. What buffer length did you choose, and why? What would happen if you did not use a buffer? Is there any disadvantage to choosing a buffer than is longer than what is needed?\n",
    "    3. Log-transform your power values and create time-frequency plots for the stimulus presentation interval, taking a mean across 1) all subsequently remembered words; and 2) all subsequently not remembered words. In a third subplot, show the power difference at each time-frequency point for the remembered - not remembered contrast. You should label timepoints on the x-axis and frequencies on the y-axis appropriately, and include colorbars for the power values with equal scaling for the first two subplots (so we can more easily visually compare remembered versus not remembered periods). How would you interpret these results? \n",
    "    4. Z-score your data across events within each session and remake the plots above. How does the visual interpretation of these data change? You should perform this step going forward.\n",
    "    5. Next, let's compare how similar these results appear across subjects. Create a time-frequency plot of the remembered - not remembered contrast for the first session for all ltpFR2 subjects with the CZ electrode (i.e. all those that were collected on the new montage), and make a multi panel figure to display the results. What features of these results are consistent across subjects, and what features are inconsistent?         \n",
    "    6. To make conclusions about which time points and frequencies *significantly* differ during the encoding period for subsequently remembered versus not remembered words, we need to perform inferential statistical testing. Because we assume that the data from each subject is independent of the data from all other subjects, we can use a test that assumes independence for aggregating across individuals. However, the behavioral contrast (subsequently recalled or not recalled) is *not* independent because we obtain a pair of time-frequency matrices from each subject. An appropriate test is the paired-samples T-test (`from scipy.stats import ttest_rel`), which asks if there is a difference of means between two groups of related samples. Calculate the average time-frequency matrix for subsequently remembered and not remembered encoding events for each subject, and then use a paired-samples T-test to compare the power of recalled versus not recalled items at each time-frequency point, across subjects. Plot the resulting T-scores at each time-frequency point, and then create a second plot in which the T-scores with a corresponding P-value above the $P < 0.05$ criterion are masked out.\n",
    "    7. Write a 2-3 sentence interpretation of your results. At which frequencies does power differ between subsequently remembered and not remembered encoding events, and in what direction (positive or negative) does the effect go? At what time relative to word onset do you see these power differences emerge, and are they sustained across the encoding interval? Are there any other effects worth noting?"
   ]
  },
  {
   "cell_type": "code",
   "execution_count": null,
   "metadata": {},
   "outputs": [],
   "source": []
  }
 ],
 "metadata": {
  "kernelspec": {
   "display_name": "memlab",
   "language": "python",
   "name": "memlab"
  },
  "language_info": {
   "codemirror_mode": {
    "name": "ipython",
    "version": 3
   },
   "file_extension": ".py",
   "mimetype": "text/x-python",
   "name": "python",
   "nbconvert_exporter": "python",
   "pygments_lexer": "ipython3",
   "version": "3.6.8"
  }
 },
 "nbformat": 4,
 "nbformat_minor": 2
}
